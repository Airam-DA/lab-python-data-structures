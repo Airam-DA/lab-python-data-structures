{
 "cells": [
  {
   "cell_type": "markdown",
   "metadata": {
    "tags": []
   },
   "source": [
    "# Lab | Data Structures "
   ]
  },
  {
   "cell_type": "markdown",
   "metadata": {},
   "source": [
    "## Exercise: Managing Customer Orders\n",
    "\n",
    "As part of a business venture, you are starting an online store that sells various products. To ensure smooth operations, you need to develop a program that manages customer orders and inventory.\n",
    "\n",
    "Follow the steps below to complete the exercise:\n",
    "\n",
    "1. Define a list called `products` that contains the following items: \"t-shirt\", \"mug\", \"hat\", \"book\", \"keychain\".\n",
    "\n",
    "2. Create an empty dictionary called `inventory`.\n",
    "\n",
    "3. Ask the user to input the quantity of each product available in the inventory. Use the product names from the `products` list as keys in the `inventory` dictionary and assign the respective quantities as values.\n",
    "\n",
    "4. Create an empty set called `customer_orders`.\n",
    "\n",
    "5. Ask the user to input the name of three products that a customer wants to order (from those in the products list, meaning three products out of \"t-shirt\", \"mug\", \"hat\", \"book\" or \"keychain\". Add each product name to the `customer_orders` set.\n",
    "\n",
    "6. Print the products in the `customer_orders` set.\n",
    "\n",
    "7. Calculate the following order statistics:\n",
    "   - Total Products Ordered: The total number of products in the `customer_orders` set.\n",
    "   - Percentage of Products Ordered: The percentage of products ordered compared to the total available products.\n",
    "   \n",
    "   Store these statistics in a tuple called `order_status`.\n",
    "\n",
    "8. Print the order statistics using the following format:\n",
    "   ```\n",
    "   Order Statistics:\n",
    "   Total Products Ordered: <total_products_ordered>\n",
    "   Percentage of Products Ordered: <percentage_ordered>% \n",
    "   ```\n",
    "\n",
    "9. Update the inventory by subtracting 1 from the quantity of each product. Modify the `inventory` dictionary accordingly.\n",
    "\n",
    "10. Print the updated inventory, displaying the quantity of each product on separate lines.\n",
    "\n",
    "Solve the exercise by implementing the steps using the Python concepts of lists, dictionaries, sets, and basic input/output operations. "
   ]
  },
  {
   "cell_type": "code",
   "execution_count": null,
   "metadata": {},
   "outputs": [
    {
     "name": "stdout",
     "output_type": "stream",
     "text": [
      "Enter the quantity of t-shirts available:  3\n",
      "Enter the quantity of mugs available:  4\n",
      "Enter the quantity of hats available:  5\n",
      "Enter the quantity of books available:  7\n",
      "Enter the quantity of keychains available:  7\n",
      "Enter the name of a product that a customer wants to order:  mug\n",
      "Enter the name of another product that a customer wants to order:  book\n",
      "Enter the name of one more product that a customer wants to order:  hat\n"
     ]
    },
    {
     "name": "stdout",
     "output_type": "stream",
     "text": [
      "Products in customer orders: {'hat', 'mug', 'book'}\n",
      "Order Statistics:\n",
      "Total Products Ordered: 3\n",
      "Percentage of Unique Products Ordered: 60.0\n",
      "Updated Inventory:\n",
      "t-shirt: 2\n",
      "mug: 3\n",
      "hat: 4\n",
      "book: 6\n",
      "keychain: 6\n"
     ]
    }
   ],
   "source": [
    "products = [\"t-shirt\", \"mug\", \"hat\", \"book\", \"keychain\"]\n",
    "\n",
    "inventory = {}\n",
    "\n",
    "quantity = int(input(\"Enter the quantity of t-shirts available: \"))\n",
    "inventory[\"t-shirt\"] = quantity\n",
    "\n",
    "quantity = int(input(\"Enter the quantity of mugs available: \"))\n",
    "inventory[\"mug\"] = quantity\n",
    "\n",
    "quantity = int(input(\"Enter the quantity of hats available: \"))\n",
    "inventory[\"hat\"] = quantity\n",
    "\n",
    "quantity = int(input(\"Enter the quantity of books available: \"))\n",
    "inventory[\"book\"] = quantity\n",
    "\n",
    "quantity = int(input(\"Enter the quantity of keychains available: \"))\n",
    "inventory[\"keychain\"] = quantity\n",
    "\n",
    "customer_orders = set()\n",
    "\n",
    "product_name = input(\"Enter the name of a product that a customer wants to order: \")\n",
    "customer_orders.add(product_name)\n",
    "\n",
    "product_name = input(\"Enter the name of another product that a customer wants to order: \")\n",
    "customer_orders.add(product_name)\n",
    "\n",
    "product_name = input(\"Enter the name of one more product that a customer wants to order: \")\n",
    "customer_orders.add(product_name)\n",
    "\n",
    "print(\"Products in customer orders:\", customer_orders)\n",
    "\n",
    "total_products_ordered = len(customer_orders)\n",
    "percentage_ordered = (total_products_ordered / len(products)) * 100\n",
    "order_status = (total_products_ordered, percentage_ordered)\n",
    "\n",
    "print(\"Order Statistics:\")\n",
    "print(\"Total Products Ordered:\", order_status[0])\n",
    "print(\"Percentage of Unique Products Ordered:\", order_status[1])\n",
    "\n",
    "inventory[\"t-shirt\"] -= 1\n",
    "inventory[\"mug\"] -= 1\n",
    "inventory[\"hat\"] -= 1\n",
    "inventory[\"book\"] -= 1\n",
    "inventory[\"keychain\"] -= 1\n",
    "\n",
    "print(\"Updated Inventory:\")\n",
    "print(\"t-shirt:\", inventory[\"t-shirt\"])\n",
    "print(\"mug:\", inventory[\"mug\"])\n",
    "print(\"hat:\", inventory[\"hat\"])\n",
    "print(\"book:\", inventory[\"book\"])\n",
    "print(\"keychain:\", inventory[\"keychain\"])"
   ]
  },
  {
   "cell_type": "code",
   "execution_count": 2,
   "metadata": {},
   "outputs": [
    {
     "name": "stdout",
     "output_type": "stream",
     "text": [
      "Please provide the quantity available for t-shirt :  4\n",
      "Please provide the quantity available for mug :  5\n",
      "Please provide the quantity available for hat :  6\n",
      "Please provide the quantity available for book :  3\n",
      "Please provide the quantity available for keychain :  6\n"
     ]
    },
    {
     "name": "stdout",
     "output_type": "stream",
     "text": [
      "Inventory: {'t-shirt': 4, 'mug': 5, 'hat': 6, 'book': 3, 'keychain': 6}\n"
     ]
    },
    {
     "name": "stdout",
     "output_type": "stream",
     "text": [
      "Write down a product that a customer wants to order: mug\n",
      "Write down a product that a customer wants to order: hat\n",
      "Write down a product that a customer wants to order: book\n"
     ]
    },
    {
     "name": "stdout",
     "output_type": "stream",
     "text": [
      "Customer's orders : {'hat', 'mug', 'book'}\n",
      "Order Statistics:\n",
      "Total Products Ordered: 3 \n",
      "Percentage of Products Ordered: 12.5 % \n",
      "Updated Inventory:\n",
      "We have 4 t-shirts!\n",
      "We have 4 mugs!\n",
      "We have 5 hats!\n",
      "We have 2 books!\n",
      "We have 6 keychains!\n"
     ]
    }
   ],
   "source": [
    "# ANOTHER WAY\n",
    "products = [\"t-shirt\", \"mug\", \"hat\", \"book\", \"keychain\"]\n",
    "inventory = {}\n",
    "customer_orders = set()\n",
    "\n",
    "for product in products:\n",
    "  quantities = int(input(f\"Please provide the quantity available for {product} : \"))\n",
    "  inventory[product] = quantities\n",
    "print(f\"Inventory: {inventory}\")\n",
    "\n",
    "\n",
    "while len(customer_orders) < 3:\n",
    "  orders = input(\"Write down a product that a customer wants to order:\")\n",
    "  if orders not in products:\n",
    "    print(\"Please enter an available product!\")\n",
    "  else:\n",
    "    customer_orders.add(orders)\n",
    "\n",
    "print(f\"Customer's orders : {customer_orders}\")\n",
    "\n",
    "\n",
    "total_products_ordered = len(customer_orders)\n",
    "percentage_ordered = (total_products_ordered / sum(inventory.values())) * 100\n",
    "\n",
    "order_status = (total_products_ordered, percentage_ordered)\n",
    "\n",
    "print(\"Order Statistics:\")\n",
    "print(f\"Total Products Ordered: {total_products_ordered} \")\n",
    "print(f\"Percentage of Products Ordered: {percentage_ordered} % \")\n",
    "\n",
    "for product in inventory:\n",
    "  if product in customer_orders:\n",
    "    inventory[product] -= 1\n",
    "print(\"Updated Inventory:\")\n",
    "\n",
    "for products, quantities in inventory.items():\n",
    "  print(f\"We have {quantities} {products}s!\")"
   ]
  }
 ],
 "metadata": {
  "kernelspec": {
   "display_name": "Python 3 (ipykernel)",
   "language": "python",
   "name": "python3"
  },
  "language_info": {
   "codemirror_mode": {
    "name": "ipython",
    "version": 3
   },
   "file_extension": ".py",
   "mimetype": "text/x-python",
   "name": "python",
   "nbconvert_exporter": "python",
   "pygments_lexer": "ipython3",
   "version": "3.12.4"
  }
 },
 "nbformat": 4,
 "nbformat_minor": 4
}
